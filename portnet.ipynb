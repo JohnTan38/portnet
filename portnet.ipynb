{
 "cells": [
  {
   "cell_type": "markdown",
   "metadata": {},
   "source": [
    "### Login"
   ]
  },
  {
   "cell_type": "code",
   "execution_count": 6,
   "metadata": {},
   "outputs": [],
   "source": [
    "from selenium import webdriver #login (1)\n",
    "from selenium.webdriver.support.ui import WebDriverWait\n",
    "from selenium.webdriver.common.by import By\n",
    "from selenium.webdriver.support import expected_conditions as EC\n",
    "from selenium.webdriver.common.action_chains import ActionChains\n",
    "from selenium.webdriver import Keys\n",
    "from selenium.webdriver.support.ui import Select\n",
    "import time\n",
    "\n",
    "driver = webdriver.Chrome()\n",
    "driver.get(\"https://www.portnet.com/ngpn/report2/en-US/trackandtrace/search\")\n",
    "driver.maximize_window()\n",
    "time.sleep(2) #get OTP"
   ]
  },
  {
   "cell_type": "markdown",
   "metadata": {},
   "source": [
    "### Get container numbers"
   ]
  },
  {
   "cell_type": "code",
   "execution_count": 3,
   "metadata": {},
   "outputs": [],
   "source": [
    "import pandas as pd #(2)\n",
    "\n",
    "def remove_space(lst):\n",
    "    lst = [str(item).replace(' ', '') for (item) in lst]\n",
    "    return lst\n",
    "\n",
    "def group_values(df, column_name):\n",
    "    values = df[column_name].tolist() # Convert the column values to a list\n",
    "    values = remove_space(values)\n",
    "    list_container = [] # Initialize an empty list to store the groups\n",
    "    \n",
    "    # Iterate over the values in chunks of 20\n",
    "    for i in range(0, len(values), 20):\n",
    "        # Get the current group of values\n",
    "        group = values[i:i+20]\n",
    "\n",
    "        # Convert the group to a string with the values separated by commas\n",
    "        group_str = ','.join(group)\n",
    "        \n",
    "        list_container.append(group_str) # Add the string to the list\n",
    "    return list_container\n",
    "\n",
    "df_container = pd.read_csv(\"C:/Users/john.tan/OneDrive - Cogent Holdings Pte. Ltd/Documents/Linda/Week_24_2.csv\")\n",
    "list_dcon = group_values(df_container, 'Container Number')"
   ]
  },
  {
   "cell_type": "markdown",
   "metadata": {},
   "source": [
    "### Navigate to 2nd page 'Container Journal'"
   ]
  },
  {
   "cell_type": "code",
   "execution_count": 34,
   "metadata": {},
   "outputs": [],
   "source": [
    "#list_dcon[0]\n",
    "#list_3 = list_dcon[:3]\n",
    "list_4=['CSNU7974917,TGBU8830674']"
   ]
  },
  {
   "cell_type": "code",
   "execution_count": 25,
   "metadata": {},
   "outputs": [],
   "source": [
    "pyautogui.moveTo(50,280, duration=0.75)\n",
    "pyautogui.click(50,280)\n",
    "n_tab_download = 3\n",
    "actions = ActionChains(driver)\n",
    "actions.send_keys(Keys.TAB*n_tab_download).perform()\n",
    "actions.send_keys(Keys.ENTER*2).perform()"
   ]
  },
  {
   "cell_type": "markdown",
   "metadata": {},
   "source": [
    "### PSA Portnet download"
   ]
  },
  {
   "cell_type": "code",
   "execution_count": 37,
   "metadata": {},
   "outputs": [],
   "source": [
    "import pyautogui #dcon download (3)\n",
    "\n",
    "for dcon in list_4:\n",
    "    pyautogui.moveTo(500, 315, duration=0.75) #\n",
    "    pyautogui.click(500,315)\n",
    "    pyautogui.press('pageup')\n",
    "    pyautogui.moveTo(500, 480, duration=0.75) #move to text box\n",
    "    pyautogui.click(500,480)\n",
    "    pyautogui.write(dcon)\n",
    "    time.sleep(0.5)\n",
    "\n",
    "    actions = ActionChains(driver)\n",
    "    n_tab = 2\n",
    "    actions.send_keys(Keys.TAB*n_tab).perform() #pyautogui.press('tab')\n",
    "    #pyautogui.press('down') #3x\n",
    "    n_down = 3\n",
    "    actions.send_keys(Keys.DOWN*n_down).perform() #Active and Historical\n",
    "    pyautogui.press('tab')\n",
    "    actions.send_keys(Keys.ENTER*n_tab).perform()\n",
    "    #pyautogui.press('enter')\n",
    "    #pyautogui.press('enter')\n",
    "    time.sleep(0.5)\n",
    "    pyautogui.press('tab')  \n",
    "    pyautogui.press('enter')\n",
    "    time.sleep(2)\n",
    "    #pyautogui.moveTo(50,280, duration=0.5) #pyautogui.click(50,280) #click 'left side'\n",
    "    time.sleep(0.5)\n",
    "        \n",
    "    #pyautogui.moveTo(90,235, duration=0.75) #pyautogui.click(90,235) #download button\n",
    "    \n",
    "    #pyautogui.press('down')\n",
    "    #pyautogui.press('down')\n",
    "    #pyautogui.press('enter')\n",
    "    actions.send_keys(Keys.TAB).perform() #downlaod arrow\n",
    "    time.sleep(0.5)\n",
    "    n_enter_download=2\n",
    "    actions.send_keys(Keys.ENTER*n_enter_download).perform() #ENTER 2x to download\n",
    "    time.sleep(2)\n",
    "\n",
    "    pyautogui.hotkey('alt', 'left') #back to previous page\n",
    "    time.sleep(0.5)\n",
    "    pyautogui.moveTo(250,190, duration=0.75)\n",
    "    pyautogui.click(250,190)\n",
    "    time.sleep(0.5)\n",
    "    pyautogui.press('pagedown')\n",
    "    pyautogui.moveTo(320,600, duration=0.75)\n",
    "    pyautogui.click(320,600)\n",
    "    time.sleep(0.5)\n"
   ]
  },
  {
   "cell_type": "code",
   "execution_count": 53,
   "metadata": {},
   "outputs": [],
   "source": [
    "import pyautogui\n",
    "#pyautogui.moveTo(765, 735, duration=1)\n",
    "#pyautogui.click(765,735)\n",
    "\n",
    "pyautogui.moveTo(90,235, duration=0.75)\n",
    "#pyautogui.moveTo(500,220, duration=0.75)"
   ]
  },
  {
   "cell_type": "code",
   "execution_count": null,
   "metadata": {},
   "outputs": [],
   "source": [
    "try:\n",
    "    all_rows = driver.find_elements(By.XPATH, '//div[contains(@class,\"mat-form-field-flex ng-tns-c31-0\")]')\n",
    "    #print(len(all_rows))\n",
    "except Exception as e:\n",
    "    print(e)"
   ]
  }
 ],
 "metadata": {
  "kernelspec": {
   "display_name": "Python 3",
   "language": "python",
   "name": "python3"
  },
  "language_info": {
   "codemirror_mode": {
    "name": "ipython",
    "version": 3
   },
   "file_extension": ".py",
   "mimetype": "text/x-python",
   "name": "python",
   "nbconvert_exporter": "python",
   "pygments_lexer": "ipython3",
   "version": "3.12.1"
  }
 },
 "nbformat": 4,
 "nbformat_minor": 2
}
