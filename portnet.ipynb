{
 "cells": [
  {
   "cell_type": "markdown",
   "metadata": {},
   "source": [
    "### Login"
   ]
  },
  {
   "cell_type": "code",
   "execution_count": 6,
   "metadata": {},
   "outputs": [],
   "source": [
    "from selenium import webdriver #login\n",
    "from selenium.webdriver.support.ui import WebDriverWait\n",
    "from selenium.webdriver.common.by import By\n",
    "from selenium.webdriver.support import expected_conditions as EC\n",
    "from selenium.webdriver.common.action_chains import ActionChains\n",
    "from selenium.webdriver import Keys\n",
    "from selenium.webdriver.support.ui import Select\n",
    "import time\n",
    "\n",
    "driver = webdriver.Chrome()\n",
    "driver.get(\"https://www.portnet.com/ngpn/report2/en-US/trackandtrace/search\")\n",
    "driver.maximize_window()\n",
    "time.sleep(2) #get OTP"
   ]
  },
  {
   "cell_type": "markdown",
   "metadata": {},
   "source": [
    "### Get container numbers"
   ]
  },
  {
   "cell_type": "code",
   "execution_count": 1,
   "metadata": {},
   "outputs": [],
   "source": [
    "import pandas as pd\n",
    "\n",
    "def remove_space(lst):\n",
    "    lst = [str(item).replace(' ', '') for (item) in lst]\n",
    "    return lst\n",
    "\n",
    "def group_values(df, column_name):\n",
    "    values = df[column_name].tolist() # Convert the column values to a list\n",
    "    values = remove_space(values)\n",
    "    list_container = [] # Initialize an empty list to store the groups\n",
    "    \n",
    "    # Iterate over the values in chunks of 20\n",
    "    for i in range(0, len(values), 20):\n",
    "        # Get the current group of values\n",
    "        group = values[i:i+20]\n",
    "\n",
    "        # Convert the group to a string with the values separated by commas\n",
    "        group_str = ','.join(group)\n",
    "        \n",
    "        list_container.append(group_str) # Add the string to the list\n",
    "    return list_container\n",
    "\n",
    "df_container = pd.read_csv(\"C:/Users/john.tan/OneDrive - Cogent Holdings Pte. Ltd/Documents/Linda/Week_24_2.csv\")\n",
    "list_dcon = group_values(df_container, 'Container Number')"
   ]
  },
  {
   "cell_type": "code",
   "execution_count": 21,
   "metadata": {},
   "outputs": [
    {
     "data": {
      "text/plain": [
       "['OOLU0335043,TEMU3600149,OOLU1768140,TEMU3821622,CSLU1572723,CSLU2059253,OOLU1851023,TEMU3076561,YMLU8949384,BEAU2253685,TLLU2722307,SEGU1549437,TGBU2323461,CSNU1549762,TGBU2331209,CMAU4980309,NYKU5200320,JXLU7431437,MSDU4412346,MSNU3330599',\n",
       " 'ZCSU7315165,EOLU8202788,EOLU8285571,APHU7226212,BSIU9393225,SEGU4698619,CMAU0688201,CMAU1201278,CMAU3195770,GESU1149246,DFSU2186027,FCIU5673339,TCLU7384879,UETU2349816,CMAU0592244,CMAU1269869,OOLU6753267,FFAU2458090,TEMU7045759,FCIU9704720',\n",
       " 'CSNU6678192,OOLU5548680,TRHU4675906,BMOU5021292,CBHU9478029,TCKU6689351,CSNU6457632,UETU5294492,OOLU8370185,XYLU8110910,OOCU6792375,TCNU6521980,FCIU9657547,BSIU9364103,OOCU8338654,OOLU9154200,OOLU9652970,CSNU7711280,CSNU7974917,TGBU8830674']"
      ]
     },
     "execution_count": 21,
     "metadata": {},
     "output_type": "execute_result"
    }
   ],
   "source": [
    "list_dcon[0]\n",
    "list_3 = list_dcon[:3]\n",
    "list_3"
   ]
  },
  {
   "cell_type": "markdown",
   "metadata": {},
   "source": [
    "### PSA Portnet download"
   ]
  },
  {
   "cell_type": "code",
   "execution_count": 22,
   "metadata": {},
   "outputs": [],
   "source": [
    "import pyautogui #dcon download\n",
    "\n",
    "#list_dcon\n",
    "#pyautogui.moveTo(765, 735, duration=1) #pyautogui.hotkey('alt', 'tab')\n",
    "#pyautogui.click(765,735)\n",
    "\n",
    "for dcon in list_3:\n",
    "    pyautogui.moveTo(500, 315, duration=0.75) #move to text box\n",
    "    pyautogui.click(500,315)\n",
    "    pyautogui.press('pageup')\n",
    "    pyautogui.moveTo(500, 480, duration=0.75) #move to text box\n",
    "    pyautogui.click(500,480)\n",
    "    pyautogui.write(dcon)\n",
    "    time.sleep(0.3)\n",
    "\n",
    "    actions = ActionChains(driver)\n",
    "    n_tab = 2\n",
    "    actions.send_keys(Keys.TAB*n_tab).perform() #pyautogui.press('tab')\n",
    "    #pyautogui.press('down') #3x\n",
    "    n_down = 3\n",
    "    actions.send_keys(Keys.DOWN*n_down).perform() #Active and Historical\n",
    "    pyautogui.press('tab')\n",
    "    actions.send_keys(Keys.ENTER*n_tab).perform()\n",
    "    #pyautogui.press('enter')\n",
    "    #pyautogui.press('enter')\n",
    "    time.sleep(0.5)\n",
    "    pyautogui.press('tab')  \n",
    "    pyautogui.press('enter')\n",
    "    time.sleep(2)\n",
    "    pyautogui.moveTo(500,220, duration=0.5)\n",
    "    pyautogui.click(500,220)\n",
    "    time.sleep(0.5)\n",
    "    \n",
    "    pyautogui.moveTo(90,235, duration=0.75)\n",
    "    pyautogui.click(90,235)\n",
    "    pyautogui.press('down')\n",
    "    pyautogui.press('down')\n",
    "    pyautogui.press('enter')\n",
    "    time.sleep(5) #download time\n",
    "\n",
    "    pyautogui.hotkey('alt', 'left') #previous page\n",
    "    time.sleep(0.5)\n",
    "    pyautogui.moveTo(250,190, duration=0.75)\n",
    "    pyautogui.click(250,190)\n",
    "    time.sleep(0.5)\n",
    "    pyautogui.press('pagedown')\n",
    "    pyautogui.moveTo(320,600, duration=0.75)\n",
    "    pyautogui.click(320,600)\n",
    "    time.sleep(0.5)     \n"
   ]
  },
  {
   "cell_type": "code",
   "execution_count": 53,
   "metadata": {},
   "outputs": [],
   "source": [
    "import pyautogui\n",
    "#pyautogui.moveTo(765, 735, duration=1)\n",
    "#pyautogui.click(765,735)\n",
    "\n",
    "pyautogui.moveTo(90,235, duration=0.75)\n",
    "#pyautogui.moveTo(500,220, duration=0.75)"
   ]
  },
  {
   "cell_type": "code",
   "execution_count": null,
   "metadata": {},
   "outputs": [],
   "source": [
    "try:\n",
    "    all_rows = driver.find_elements(By.XPATH, '//div[contains(@class,\"mat-form-field-flex ng-tns-c31-0\")]')\n",
    "    #print(len(all_rows))\n",
    "except Exception as e:\n",
    "    print(e)"
   ]
  }
 ],
 "metadata": {
  "kernelspec": {
   "display_name": "Python 3",
   "language": "python",
   "name": "python3"
  },
  "language_info": {
   "codemirror_mode": {
    "name": "ipython",
    "version": 3
   },
   "file_extension": ".py",
   "mimetype": "text/x-python",
   "name": "python",
   "nbconvert_exporter": "python",
   "pygments_lexer": "ipython3",
   "version": "3.12.1"
  }
 },
 "nbformat": 4,
 "nbformat_minor": 2
}
